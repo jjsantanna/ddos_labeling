{
 "cells": [
  {
   "cell_type": "code",
   "execution_count": 5,
   "metadata": {
    "collapsed": true
   },
   "outputs": [],
   "source": [
    "import time\n",
    "import resource\n",
    "import pandas as pd\n",
    "import numpy as np"
   ]
  },
  {
   "cell_type": "markdown",
   "metadata": {},
   "source": [
    ">Remember that dpkt opens only pcap and NOT pcapng"
   ]
  },
  {
   "cell_type": "code",
   "execution_count": 34,
   "metadata": {
    "collapsed": false
   },
   "outputs": [
    {
     "name": "stdout",
     "output_type": "stream",
     "text": [
      "File name:           data/anon-Booter5.pcap\r\n",
      "File type:           Wireshark/tcpdump/... - pcap\r\n",
      "File size:           305 MB\r\n"
     ]
    }
   ],
   "source": [
    "!capinfos -ts 'data/anon-Booter5.pcap'"
   ]
  },
  {
   "cell_type": "markdown",
   "metadata": {},
   "source": [
    "## Analysing dpkt "
   ]
  },
  {
   "cell_type": "code",
   "execution_count": 22,
   "metadata": {
    "collapsed": true
   },
   "outputs": [],
   "source": [
    "import argparse\n",
    "import dpkt\n",
    "import socket\n",
    "import os"
   ]
  },
  {
   "cell_type": "code",
   "execution_count": 30,
   "metadata": {
    "collapsed": false
   },
   "outputs": [
    {
     "name": "stdout",
     "output_type": "stream",
     "text": [
      "(84.62819600105286, 8192)\n"
     ]
    }
   ],
   "source": [
    "time_custom4 = time.time()\n",
    "mem_custom4 = resource.getrusage(resource.RUSAGE_SELF).ru_maxrss \n",
    "\n",
    "inputfile = open('data/anon-Booter5.pcap')\n",
    "pcapfile = dpkt.pcap.Reader(inputfile)\n",
    "\n",
    "outputfile = open('data/anon-Booter5.txt','w')\n",
    "\n",
    "for ts, buf in pcapfile:\n",
    "    eth = dpkt.ethernet.Ethernet(buf)\n",
    "\n",
    "    #FILTERING ONLY FOR IPv4 instead of packets ARP or IPv6\n",
    "    if eth.type == dpkt.ethernet.ETH_TYPE_IP:\n",
    "        ip = eth.data #Loading the content of the ethernet into a variable 'ip'\n",
    "        \n",
    "        timestamp = ts #1\n",
    "        ip_ttl = ip.ttl #2\n",
    "        \n",
    "        ip_proto = ip.p #3\n",
    "        sport = \"\"\n",
    "        dport= \"\"\n",
    "        tcp_flag =\"\"\n",
    "        http_data=\"\"\n",
    "        if (ip_proto != 6) and (ip_proto != 17): #It is not TCP or UDP\n",
    "            continue\n",
    "            \n",
    "        ip_length = ip.len #4\n",
    "        ip_src = socket.inet_ntoa(ip.src) #5\n",
    "        ip_dst = socket.inet_ntoa(ip.dst) #6\n",
    "        \n",
    "        try: proto = ip.data #Loading the content of the 'ip' into a variable 'protocol' that can be for example ICMP, TCP, and UDP.\n",
    "        except:\n",
    "            continue\n",
    "        \n",
    "        sport = proto.sport #7\n",
    "        dport = proto.dport #8\n",
    "\n",
    "\n",
    "        if ip.p == 6 :\n",
    "            try:\n",
    "                tcp_flag += (\"F\" if (int( proto.flags & dpkt.tcp.TH_FIN ) != 0) else \".\") #27\n",
    "                tcp_flag += (\"S\" if (int( proto.flags & dpkt.tcp.TH_SYN ) != 0) else \".\") #26\n",
    "                tcp_flag += (\"R\" if (int( proto.flags & dpkt.tcp.TH_RST ) != 0) else \".\") #25\n",
    "                tcp_flag += (\"P\" if (int( proto.flags & dpkt.tcp.TH_PUSH) != 0) else \".\") #24\n",
    "                tcp_flag += (\"A\" if (int( proto.flags & dpkt.tcp.TH_ACK ) != 0) else \".\") #23\n",
    "                tcp_flag += (\"U\" if (int( proto.flags & dpkt.tcp.TH_URG ) != 0) else \".\") #22\n",
    "                tcp_flag += (\"E\" if (int( proto.flags & dpkt.tcp.TH_ECE ) != 0) else \".\") #21\n",
    "                tcp_flag += (\"C\" if (int( proto.flags & dpkt.tcp.TH_CWR ) != 0) else \".\") #20\n",
    "            except:\n",
    "                print \"EXCEPTION TCP FLAG\"\n",
    "\n",
    "            if proto.dport == 80:\n",
    "                try: \n",
    "                    http = dpkt.http.Request(proto.data)\n",
    "                    http_data = http.data\n",
    "                except: continue\n",
    "            \n",
    "        fragments = 1 if (int(ip.off & dpkt.ip.IP_MF)!= 0) else 0  #8 This flag is set to a 1 for all fragments except the last one            \n",
    "\n",
    "        print >> outputfile, str(timestamp)+';'+\\\n",
    "        str(ip_ttl)+';'+\\\n",
    "        str(ip_proto)+';'+\\\n",
    "        str(ip_length)+';'+\\\n",
    "        str(ip_src)+';'+\\\n",
    "        str(ip_dst)+';'+\\\n",
    "        str(sport)+';'+\\\n",
    "        str(dport)+';'+\\\n",
    "        str(tcp_flag)+';'+\\\n",
    "        str(fragments)+';'+\\\n",
    "        str(http_data)\n",
    "\n",
    "mem_custom4 = resource.getrusage(resource.RUSAGE_SELF).ru_maxrss -mem_custom4\n",
    "time_custom4 = time.time() - time_custom4\n",
    "\n",
    "print(time_custom4, mem_custom4)"
   ]
  },
  {
   "cell_type": "markdown",
   "metadata": {},
   "source": [
    "### This is around two times more expensive than tcpdump with awk. However it is easier to create the output."
   ]
  }
 ],
 "metadata": {
  "kernelspec": {
   "display_name": "Python 2",
   "language": "python",
   "name": "python2"
  },
  "language_info": {
   "codemirror_mode": {
    "name": "ipython",
    "version": 2
   },
   "file_extension": ".py",
   "mimetype": "text/x-python",
   "name": "python",
   "nbconvert_exporter": "python",
   "pygments_lexer": "ipython2",
   "version": "2.7.12"
  },
  "widgets": {
   "state": {},
   "version": "1.1.2"
  }
 },
 "nbformat": 4,
 "nbformat_minor": 0
}
