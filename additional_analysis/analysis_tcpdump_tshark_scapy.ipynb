{
 "cells": [
  {
   "cell_type": "markdown",
   "metadata": {},
   "source": [
    "<h1 align='center'> DDoS Attack (Filtering and) Labelling </h1>"
   ]
  },
  {
   "cell_type": "markdown",
   "metadata": {},
   "source": [
    "<h2 align='center'> \n",
    "<div style=\"width:400px;padding:10px;border:1px dotted black;\">\n",
    "Goal: to label DDoS attacks.\n",
    "</div>\n",
    "</h2>"
   ]
  },
  {
   "cell_type": "markdown",
   "metadata": {},
   "source": [
    "<img align='center' src=\"figs/summary.png\" width=\"400px\"/>\n"
   ]
  },
  {
   "cell_type": "markdown",
   "metadata": {},
   "source": [
    "- The **input** is a packet-based network trace file that contains an attack, usually with the extension .pcap or pcapng.\n",
    "- The **output** is a string with a label of the attack found in the input file."
   ]
  },
  {
   "cell_type": "markdown",
   "metadata": {},
   "source": [
    "## Research Question (RQ) definitions:\n",
    "- **RQ1: How to efficiently read and convert packet-based network traces containing DDoS attacks for facilitating futher analysis?** DDoS attack trace contains a very large amount of records making very expensive computationally to read and analyse them. These records are nested, i.e., packets can have different set of information (network fields), which makes even more challenging to analyse them in a single manner. There are different tools and libraries for reading packet-based network traces \n",
    "\n",
    "- **RQ2: How to efficiently identify the main characteristics of a DDoS attack?** From a practical point of view the definition of DDoS attack is a set of network records with a same characteristics, which is the majority of the network traffic compared to the remaining traffic.\n",
    "\n",
    "- **RQ3: How the characteristics of DDoS attacks can be used for labeling them?** There are many taxonomies to classify and label DDoS attacks. Our approach to address this question is based on the practical experience of network operators and network security specialists. In this approach they label attacks based on their observations on the attacks."
   ]
  },
  {
   "cell_type": "markdown",
   "metadata": {},
   "source": [
    "<h2 align='center'>===============================================================<br> RQ1: How to efficiently read and convert packet-based network traces containing DDoS attacks for facilitating futher analysis?</h2>"
   ]
  },
  {
   "cell_type": "markdown",
   "metadata": {},
   "source": [
    "- Approach 1: Read everything in memory at once\n",
    "- Approach 2: Split the file in smaller files, read each one in memory, and merge the results\n",
    "- Approach 3: Read and process packet by packet"
   ]
  },
  {
   "cell_type": "markdown",
   "metadata": {},
   "source": [
    "**Everything is basically libpcap and winpcap**\n",
    "- CLI: tcpdump and tshark (Ethereal/Wireshark)\n",
    "- Python libraries: scapy, dpkt, pure-pcapfile, pypcap, pypcapfile, python-libpcap, pcapy, WinPcapy\n",
    "\n",
    "- for generating packets there is a benchmark in http://libtins.github.io/benchmark/"
   ]
  },
  {
   "cell_type": "markdown",
   "metadata": {},
   "source": [
    "**Performance deppends on:**\n",
    "- different output, e.g., stdout, file\n",
    "- options "
   ]
  },
  {
   "cell_type": "markdown",
   "metadata": {},
   "source": [
    "### Library for measuring time "
   ]
  },
  {
   "cell_type": "code",
   "execution_count": 4,
   "metadata": {
    "collapsed": true
   },
   "outputs": [],
   "source": [
    "import time\n",
    "import resource\n",
    "\n",
    "import pandas as pd\n",
    "import numpy as np"
   ]
  },
  {
   "cell_type": "markdown",
   "metadata": {},
   "source": [
    "<h2>===================================================<br>\n",
    "Analysing tcpdump</h2>"
   ]
  },
  {
   "cell_type": "code",
   "execution_count": 2,
   "metadata": {
    "collapsed": false
   },
   "outputs": [],
   "source": [
    "# !time tcpdump -r data/anon-Booter5.pcap"
   ]
  },
  {
   "cell_type": "markdown",
   "metadata": {},
   "source": [
    "> More than dozens minutes"
   ]
  },
  {
   "cell_type": "code",
   "execution_count": 3,
   "metadata": {
    "collapsed": false
   },
   "outputs": [],
   "source": [
    "# duration_default = time.time()\n",
    "\n",
    "# !tcpdump -r data/anon-Booter5.pcap > anon-Booter5.txt\n",
    "\n",
    "# duration_default = time.time() - duration_default\n",
    "# print(duration_default)"
   ]
  },
  {
   "cell_type": "markdown",
   "metadata": {},
   "source": [
    "> Depends on the network. Better than the previous BUT more than dozens minutes"
   ]
  },
  {
   "cell_type": "markdown",
   "metadata": {},
   "source": [
    "- **'-nn': Don't convert addresses (i.e., host addresses, port numbers, etc.) to names.**"
   ]
  },
  {
   "cell_type": "code",
   "execution_count": 4,
   "metadata": {
    "collapsed": false
   },
   "outputs": [
    {
     "name": "stdout",
     "output_type": "stream",
     "text": [
      "reading from file data/anon-Booter5.pcap, link-type EN10MB (Ethernet)\n",
      "7.8505859375 16384\n"
     ]
    }
   ],
   "source": [
    "time_wo_resolvingnames = time.time()\n",
    "mem_wo_resolvingnames = resource.getrusage(resource.RUSAGE_SELF).ru_maxrss \n",
    "\n",
    "!tcpdump -r data/anon-Booter5.pcap -n> anon-Booter5.txt\n",
    "\n",
    "mem_wo_resolvingnames = resource.getrusage(resource.RUSAGE_SELF).ru_maxrss -mem_wo_resolvingnames\n",
    "time_wo_resolvingnames = time.time() - time_wo_resolvingnames\n",
    "\n",
    "print(time_wo_resolvingnames, mem_wo_resolvingnames)"
   ]
  },
  {
   "cell_type": "markdown",
   "metadata": {},
   "source": [
    ">example:"
   ]
  },
  {
   "cell_type": "code",
   "execution_count": 5,
   "metadata": {
    "collapsed": false
   },
   "outputs": [
    {
     "name": "stdout",
     "output_type": "stream",
     "text": [
      "reading from file data/anon-Booter5.pcap, link-type EN10MB (Ethernet)\r\n",
      "23:56:40.211654 IP 247.193.164.155.53 > 227.213.154.241.9231: 26565 1/0/1 A 62.116.143.18 (61)\r\n"
     ]
    }
   ],
   "source": [
    "!tcpdump -r data/anon-Booter5.pcap -n|head -1"
   ]
  },
  {
   "cell_type": "markdown",
   "metadata": {},
   "source": [
    "- **'-t': Don't print a timestamp on each dump line**"
   ]
  },
  {
   "cell_type": "code",
   "execution_count": 6,
   "metadata": {
    "collapsed": false
   },
   "outputs": [
    {
     "name": "stdout",
     "output_type": "stream",
     "text": [
      "reading from file data/anon-Booter5.pcap, link-type EN10MB (Ethernet)\n",
      "6.884278059005737 8192\n"
     ]
    }
   ],
   "source": [
    "time_wo_resolvingnames_wo_time = time.time()\n",
    "mem_wo_resolvingnames_wo_time = resource.getrusage(resource.RUSAGE_SELF).ru_maxrss \n",
    "\n",
    "!tcpdump -r data/anon-Booter5.pcap -nt > anon-Booter5.txt\n",
    "\n",
    "mem_wo_resolvingnames_wo_time = resource.getrusage(resource.RUSAGE_SELF).ru_maxrss -mem_wo_resolvingnames_wo_time\n",
    "time_wo_resolvingnames_wo_time = time.time() - time_wo_resolvingnames_wo_time\n",
    "\n",
    "print(time_wo_resolvingnames_wo_time, mem_wo_resolvingnames_wo_time)"
   ]
  },
  {
   "cell_type": "markdown",
   "metadata": {},
   "source": [
    "> Example:"
   ]
  },
  {
   "cell_type": "code",
   "execution_count": 7,
   "metadata": {
    "collapsed": false
   },
   "outputs": [
    {
     "name": "stdout",
     "output_type": "stream",
     "text": [
      "reading from file data/anon-Booter5.pcap, link-type EN10MB (Ethernet)\r\n",
      "IP 247.193.164.155.53 > 227.213.154.241.9231: 26565 1/0/1 A 62.116.143.18 (61)\r\n"
     ]
    }
   ],
   "source": [
    "!tcpdump -r data/anon-Booter5.pcap -nt|head -1"
   ]
  },
  {
   "cell_type": "markdown",
   "metadata": {},
   "source": [
    "- **'-tt': Print the timestamp on each dump line.**"
   ]
  },
  {
   "cell_type": "code",
   "execution_count": 8,
   "metadata": {
    "collapsed": false
   },
   "outputs": [
    {
     "name": "stdout",
     "output_type": "stream",
     "text": [
      "reading from file data/anon-Booter5.pcap, link-type EN10MB (Ethernet)\n",
      "7.259585857391357 4096\n"
     ]
    }
   ],
   "source": [
    "time_wo_resolvingnames_w_timestamp = time.time()\n",
    "mem_wo_resolvingnames_w_timestamp = resource.getrusage(resource.RUSAGE_SELF).ru_maxrss \n",
    "\n",
    "!tcpdump -r data/anon-Booter5.pcap -ntt > anon-Booter5.txt\n",
    "\n",
    "mem_wo_resolvingnames_w_timestamp = resource.getrusage(resource.RUSAGE_SELF).ru_maxrss -mem_wo_resolvingnames_w_timestamp\n",
    "time_wo_resolvingnames_w_timestamp = time.time() - time_wo_resolvingnames_w_timestamp\n",
    "\n",
    "print(time_wo_resolvingnames_w_timestamp, mem_wo_resolvingnames_w_timestamp)"
   ]
  },
  {
   "cell_type": "markdown",
   "metadata": {},
   "source": [
    ">example:"
   ]
  },
  {
   "cell_type": "code",
   "execution_count": 9,
   "metadata": {
    "collapsed": false
   },
   "outputs": [
    {
     "name": "stdout",
     "output_type": "stream",
     "text": [
      "reading from file data/anon-Booter5.pcap, link-type EN10MB (Ethernet)\r\n",
      "1376521000.211654 IP 247.193.164.155.53 > 227.213.154.241.9231: 26565 1/0/1 A 62.116.143.18 (61)\r\n"
     ]
    }
   ],
   "source": [
    "!tcpdump -r data/anon-Booter5.pcap -ntt|head -1"
   ]
  },
  {
   "cell_type": "markdown",
   "metadata": {},
   "source": [
    "- **'-v': verbose output. For example printing: the time to live, identification, total length and options in an IP packet, packet integrity checks (verifying the IP header checksum).** "
   ]
  },
  {
   "cell_type": "code",
   "execution_count": 10,
   "metadata": {
    "collapsed": false
   },
   "outputs": [
    {
     "name": "stdout",
     "output_type": "stream",
     "text": [
      "reading from file data/anon-Booter5.pcap, link-type EN10MB (Ethernet)\n",
      "15.678691864013672 0\n"
     ]
    }
   ],
   "source": [
    "time_wo_resolvingnames_w_timestamp_verbose = time.time()\n",
    "mem_wo_resolvingnames_w_timestamp_verbose = resource.getrusage(resource.RUSAGE_SELF).ru_maxrss \n",
    "\n",
    "!tcpdump -r data/anon-Booter5.pcap -nttv > anon-Booter5.txt\n",
    "\n",
    "mem_wo_resolvingnames_w_timestamp_verbose = resource.getrusage(resource.RUSAGE_SELF).ru_maxrss -mem_wo_resolvingnames_w_timestamp_verbose\n",
    "time_wo_resolvingnames_w_timestamp_verbose = time.time() - time_wo_resolvingnames_w_timestamp_verbose\n",
    "\n",
    "print(time_wo_resolvingnames_w_timestamp_verbose, mem_wo_resolvingnames_w_timestamp_verbose)"
   ]
  },
  {
   "cell_type": "markdown",
   "metadata": {},
   "source": [
    "> example:"
   ]
  },
  {
   "cell_type": "code",
   "execution_count": 11,
   "metadata": {
    "collapsed": false
   },
   "outputs": [
    {
     "name": "stdout",
     "output_type": "stream",
     "text": [
      "reading from file data/anon-Booter5.pcap, link-type EN10MB (Ethernet)\r\n",
      "1376521000.211654 IP (tos 0x0, ttl 124, id 10443, offset 0, flags [none], proto UDP (17), length 89)\r\n",
      "    247.193.164.155.53 > 227.213.154.241.9231: 26565 1/0/1 ddostheinter.net. A 62.116.143.18 (61)\r\n"
     ]
    }
   ],
   "source": [
    "!tcpdump -r data/anon-Booter5.pcap -nttv|head -2"
   ]
  },
  {
   "cell_type": "markdown",
   "metadata": {},
   "source": [
    "- **'-vvv': (max) verbose**"
   ]
  },
  {
   "cell_type": "code",
   "execution_count": 12,
   "metadata": {
    "collapsed": false
   },
   "outputs": [
    {
     "name": "stdout",
     "output_type": "stream",
     "text": [
      "reading from file data/anon-Booter5.pcap, link-type EN10MB (Ethernet)\n",
      "32.09510087966919 8192\n"
     ]
    }
   ],
   "source": [
    "time_wo_resolvingnames_w_timestamp_verboseplus = time.time()\n",
    "mem_wo_resolvingnames_w_timestamp_verboseplus = resource.getrusage(resource.RUSAGE_SELF).ru_maxrss \n",
    "\n",
    "!tcpdump -r data/anon-Booter5.pcap -nttvvv > anon-Booter5.txt\n",
    "\n",
    "mem_wo_resolvingnames_w_timestamp_verboseplus = resource.getrusage(resource.RUSAGE_SELF).ru_maxrss -mem_wo_resolvingnames_w_timestamp_verboseplus\n",
    "time_wo_resolvingnames_w_timestamp_verboseplus = time.time() - time_wo_resolvingnames_w_timestamp_verboseplus\n",
    "\n",
    "print(time_wo_resolvingnames_w_timestamp_verboseplus, mem_wo_resolvingnames_w_timestamp_verboseplus)"
   ]
  },
  {
   "cell_type": "code",
   "execution_count": 13,
   "metadata": {
    "collapsed": false
   },
   "outputs": [
    {
     "name": "stdout",
     "output_type": "stream",
     "text": [
      "reading from file data/anon-Booter5.pcap, link-type EN10MB (Ethernet)\r\n",
      "1376521000.211654 IP (tos 0x0, ttl 124, id 10443, offset 0, flags [none], proto UDP (17), length 89)\r\n",
      "    247.193.164.155.53 > 227.213.154.241.9231: [udp sum ok] 26565 q: A? ddostheinter.net. 1/0/1 ddostheinter.net. [6m30s] A 62.116.143.18 ar: . OPT UDPsize=4000 (61)\r\n"
     ]
    }
   ],
   "source": [
    "!tcpdump -r data/anon-Booter5.pcap -nttvvv|head -2"
   ]
  },
  {
   "cell_type": "markdown",
   "metadata": {},
   "source": [
    "**Attention: tcpdump DOES NOT have customized output. We must to use other tools, such as grep, or sed, or awk: http://stackoverflow.com/questions/13492611/tcpdump-output-only-source-and-destination-addresses**"
   ]
  },
  {
   "cell_type": "code",
   "execution_count": 10,
   "metadata": {
    "collapsed": false
   },
   "outputs": [
    {
     "name": "stdout",
     "output_type": "stream",
     "text": [
      "reading from file data/anon-Booter5.pcap, link-type EN10MB (Ethernet)\n",
      "47.359403133392334 0\n"
     ]
    }
   ],
   "source": [
    "time_custom = time.time()\n",
    "mem_custom = resource.getrusage(resource.RUSAGE_SELF).ru_maxrss \n",
    "\n",
    "!tcpdump -r data/anon-Booter5.pcap -nttv|\\\n",
    "awk 'NR % 2 {\\\n",
    "printf $1\";\";\\\n",
    "for(i=1;i<=NF;i++) if ($i == \"ttl\") printf $(i+1)\";\";\\\n",
    "for(i=1;i<=NF;i++) if ($i == \"proto\") printf $(i+1)\";\";\\\n",
    "for(i=1;i<=NF;i++) if ($i == \"length\") printf $(i+1)\";\";\\\n",
    "for(i=1;i<=NF;i++) if ($i == \"offset\") printf $(i+1)\";\";\\\n",
    "}\\\n",
    "!(NR % 2) {\\\n",
    "printf $1\";\"$3\"\\n\"}' > anon-Booter5.txt\n",
    "\n",
    "mem_custom = resource.getrusage(resource.RUSAGE_SELF).ru_maxrss -mem_custom\n",
    "time_custom = time.time() - time_custom\n",
    "\n",
    "print(time_custom, mem_custom)"
   ]
  },
  {
   "cell_type": "markdown",
   "metadata": {},
   "source": [
    ">example:"
   ]
  },
  {
   "cell_type": "code",
   "execution_count": 7,
   "metadata": {
    "collapsed": false
   },
   "outputs": [
    {
     "name": "stdout",
     "output_type": "stream",
     "text": [
      "reading from file data/anon-Booter5.pcap, link-type EN10MB (Ethernet)\r\n",
      "1376521000.211654;IP;124,;UDP;89);0,;247.193.164.155.53;227.213.154.241.9231:\r\n"
     ]
    }
   ],
   "source": [
    "!tcpdump -r data/anon-Booter5.pcap -nttv|\\\n",
    "awk 'NR % 2 {\\\n",
    "printf $1\";\"\\\n",
    "$2\";\";\\\n",
    "for(i=1;i<=NF;i++) if ($i == \"ttl\") printf $(i+1)\";\";\\\n",
    "for(i=1;i<=NF;i++) if ($i == \"proto\") printf $(i+1)\";\";\\\n",
    "for(i=1;i<=NF;i++) if ($i == \"length\") printf $(i+1)\";\";\\\n",
    "for(i=1;i<=NF;i++) if ($i == \"offset\") printf $(i+1)\";\";\\\n",
    "}\\\n",
    "!(NR % 2) {\\\n",
    "printf $1\";\"$3\"\\n\"}'|head -1"
   ]
  },
  {
   "cell_type": "markdown",
   "metadata": {},
   "source": [
    "### Summary"
   ]
  },
  {
   "cell_type": "code",
   "execution_count": 72,
   "metadata": {
    "collapsed": false
   },
   "outputs": [
    {
     "data": {
      "text/html": [
       "<div>\n",
       "<table border=\"1\" class=\"dataframe\">\n",
       "  <thead>\n",
       "    <tr style=\"text-align: right;\">\n",
       "      <th></th>\n",
       "      <th>description</th>\n",
       "      <th>time</th>\n",
       "    </tr>\n",
       "  </thead>\n",
       "  <tbody>\n",
       "    <tr>\n",
       "      <th>0</th>\n",
       "      <td>time_wo_resolvingnames</td>\n",
       "      <td>7.850586</td>\n",
       "    </tr>\n",
       "    <tr>\n",
       "      <th>1</th>\n",
       "      <td>time_wo_resolvingnames_wo_time</td>\n",
       "      <td>6.884278</td>\n",
       "    </tr>\n",
       "    <tr>\n",
       "      <th>2</th>\n",
       "      <td>time_wo_resolvingnames_w_timestamp</td>\n",
       "      <td>7.259586</td>\n",
       "    </tr>\n",
       "    <tr>\n",
       "      <th>3</th>\n",
       "      <td>time_wo_resolvingnames_w_timestamp_verbose</td>\n",
       "      <td>15.678692</td>\n",
       "    </tr>\n",
       "    <tr>\n",
       "      <th>4</th>\n",
       "      <td>time_wo_resolvingnames_w_timestamp_verboseplus</td>\n",
       "      <td>32.095101</td>\n",
       "    </tr>\n",
       "    <tr>\n",
       "      <th>5</th>\n",
       "      <td>time_custom</td>\n",
       "      <td>46.229947</td>\n",
       "    </tr>\n",
       "  </tbody>\n",
       "</table>\n",
       "</div>"
      ],
      "text/plain": [
       "                                      description       time\n",
       "0                          time_wo_resolvingnames   7.850586\n",
       "1                  time_wo_resolvingnames_wo_time   6.884278\n",
       "2              time_wo_resolvingnames_w_timestamp   7.259586\n",
       "3      time_wo_resolvingnames_w_timestamp_verbose  15.678692\n",
       "4  time_wo_resolvingnames_w_timestamp_verboseplus  32.095101\n",
       "5                                     time_custom  46.229947"
      ]
     },
     "execution_count": 72,
     "metadata": {},
     "output_type": "execute_result"
    }
   ],
   "source": [
    "analysis_tcpdump = pd.DataFrame([['time_wo_resolvingnames',time_wo_resolvingnames],\\\n",
    "              ['time_wo_resolvingnames_wo_time',time_wo_resolvingnames_wo_time],\\\n",
    "              ['time_wo_resolvingnames_w_timestamp',time_wo_resolvingnames_w_timestamp],\\\n",
    "              ['time_wo_resolvingnames_w_timestamp_verbose',time_wo_resolvingnames_w_timestamp_verbose],\\\n",
    "              ['time_wo_resolvingnames_w_timestamp_verboseplus',time_wo_resolvingnames_w_timestamp_verboseplus],\\\n",
    "              ['time_custom',time_custom]],\\\n",
    "             columns=['description','time'])\n",
    "\n",
    "analysis_tcpdump"
   ]
  },
  {
   "cell_type": "markdown",
   "metadata": {},
   "source": [
    "<h2> =================================================<br>\n",
    "Analysing tshark </h2>"
   ]
  },
  {
   "cell_type": "markdown",
   "metadata": {},
   "source": [
    "- **'-n': Disable network object name resolution (such as hostname, TCP and UDP port names)**"
   ]
  },
  {
   "cell_type": "code",
   "execution_count": 21,
   "metadata": {
    "collapsed": false
   },
   "outputs": [
    {
     "name": "stdout",
     "output_type": "stream",
     "text": [
      "36.34719109535217 0\n"
     ]
    }
   ],
   "source": [
    "time_wo_resolvingnames2 = time.time()\n",
    "mem_wo_resolvingnames2 = resource.getrusage(resource.RUSAGE_SELF).ru_maxrss \n",
    "\n",
    "!tshark -r data/anon-Booter5.pcap -n > anon-Booter5.txt\n",
    "\n",
    "mem_wo_resolvingnames2 = resource.getrusage(resource.RUSAGE_SELF).ru_maxrss -mem_wo_resolvingnames2\n",
    "time_wo_resolvingnames2 = time.time() - time_wo_resolvingnames2\n",
    "\n",
    "print(time_wo_resolvingnames2, mem_wo_resolvingnames2)"
   ]
  },
  {
   "cell_type": "markdown",
   "metadata": {},
   "source": [
    ">example:"
   ]
  },
  {
   "cell_type": "code",
   "execution_count": 22,
   "metadata": {
    "collapsed": false
   },
   "outputs": [
    {
     "name": "stdout",
     "output_type": "stream",
     "text": [
      "  1   0.000000 247.193.164.155 -> 227.213.154.241 DNS 103 Standard query response 0x67c5  A 62.116.143.18\r\n",
      "tshark: An error occurred while printing packets: Broken pipe.\r\n"
     ]
    }
   ],
   "source": [
    "!tshark -r data/anon-Booter5.pcap -n|head -1"
   ]
  },
  {
   "cell_type": "markdown",
   "metadata": {},
   "source": [
    "- **'-t e': Print the timestamp on each dump line.**"
   ]
  },
  {
   "cell_type": "code",
   "execution_count": 23,
   "metadata": {
    "collapsed": false
   },
   "outputs": [
    {
     "name": "stdout",
     "output_type": "stream",
     "text": [
      "38.84751915931702 0\n"
     ]
    }
   ],
   "source": [
    "time_wo_resolvingnames_w_timestamp2 = time.time()\n",
    "mem_wo_resolvingnames_w_timestamp2 = resource.getrusage(resource.RUSAGE_SELF).ru_maxrss \n",
    "\n",
    "!tshark -r data/anon-Booter5.pcap -n -t e > anon-Booter5.txt\n",
    "\n",
    "mem_wo_resolvingnames_w_timestamp2 = resource.getrusage(resource.RUSAGE_SELF).ru_maxrss -mem_wo_resolvingnames_w_timestamp2\n",
    "time_wo_resolvingnames_w_timestamp2 = time.time() - time_wo_resolvingnames_w_timestamp2\n",
    "\n",
    "print(time_wo_resolvingnames_w_timestamp2, mem_wo_resolvingnames_w_timestamp2)"
   ]
  },
  {
   "cell_type": "markdown",
   "metadata": {},
   "source": [
    ">example:"
   ]
  },
  {
   "cell_type": "code",
   "execution_count": 40,
   "metadata": {
    "collapsed": false
   },
   "outputs": [
    {
     "name": "stdout",
     "output_type": "stream",
     "text": [
      "  1 1376521000.211654 247.193.164.155 -> 227.213.154.241 DNS 103 Standard query response 0x67c5  A 62.116.143.18\r\n",
      "tshark: An error occurred while printing packets: Broken pipe.\r\n"
     ]
    }
   ],
   "source": [
    "!tshark -r data/anon-Booter5.pcap -n -t e|head -1"
   ]
  },
  {
   "cell_type": "markdown",
   "metadata": {},
   "source": [
    "- **with an customized output**"
   ]
  },
  {
   "cell_type": "code",
   "execution_count": 62,
   "metadata": {
    "collapsed": false
   },
   "outputs": [
    {
     "name": "stdout",
     "output_type": "stream",
     "text": [
      "138.0743579864502 12288\n"
     ]
    }
   ],
   "source": [
    "time_custom2 = time.time()\n",
    "mem_custom2 = resource.getrusage(resource.RUSAGE_SELF).ru_maxrss\n",
    "\n",
    "!tshark -r data/anon-Booter5.pcap -n -E separator=\\; -E header=y -T fields \\\n",
    "-e frame.time_epoch \\\n",
    "-e ip.ttl \\\n",
    "-e ip.proto \\\n",
    "-e frame.len \\\n",
    "-e ip.src \\\n",
    "-e ip.dst \\\n",
    "-e udp.srcport \\\n",
    "-e udp.dstport \\\n",
    "-e tcp.srcport \\\n",
    "-e tcp.dstport > anon-Booter5.txt\n",
    "\n",
    "mem_custom2 = resource.getrusage(resource.RUSAGE_SELF).ru_maxrss -mem_custom2\n",
    "time_custom2 = time.time() - time_custom2\n",
    "\n",
    "print(time_custom2, mem_custom2)"
   ]
  },
  {
   "cell_type": "markdown",
   "metadata": {},
   "source": [
    "> example:"
   ]
  },
  {
   "cell_type": "code",
   "execution_count": 64,
   "metadata": {
    "collapsed": false
   },
   "outputs": [
    {
     "name": "stdout",
     "output_type": "stream",
     "text": [
      "frame.time_epoch;ip.ttl;ip.proto;frame.len;ip.src;ip.dst;udp.srcport;udp.dstport;tcp.srcport;tcp.dstport\r\n",
      "1376521000.211654000;124;17;103;247.193.164.155;227.213.154.241;53;9231;;\r\n",
      "tshark: An error occurred while printing packets: Broken pipe.\r\n"
     ]
    }
   ],
   "source": [
    "!tshark -r data/anon-Booter5.pcap -n -E separator=\\; -E header=y -T fields \\\n",
    "-e frame.time_epoch \\\n",
    "-e ip.ttl \\\n",
    "-e ip.proto \\\n",
    "-e frame.len \\\n",
    "-e ip.src \\\n",
    "-e ip.dst \\\n",
    "-e udp.srcport \\\n",
    "-e udp.dstport \\\n",
    "-e tcp.srcport \\\n",
    "-e tcp.dstport |head -2"
   ]
  },
  {
   "cell_type": "markdown",
   "metadata": {},
   "source": [
    "## Summary"
   ]
  },
  {
   "cell_type": "code",
   "execution_count": 73,
   "metadata": {
    "collapsed": false
   },
   "outputs": [
    {
     "data": {
      "text/html": [
       "<div>\n",
       "<table border=\"1\" class=\"dataframe\">\n",
       "  <thead>\n",
       "    <tr style=\"text-align: right;\">\n",
       "      <th></th>\n",
       "      <th>description</th>\n",
       "      <th>time</th>\n",
       "    </tr>\n",
       "  </thead>\n",
       "  <tbody>\n",
       "    <tr>\n",
       "      <th>0</th>\n",
       "      <td>time_wo_resolvingnames</td>\n",
       "      <td>36.347191</td>\n",
       "    </tr>\n",
       "    <tr>\n",
       "      <th>1</th>\n",
       "      <td>time_wo_resolvingnames_wo_time</td>\n",
       "      <td>NaN</td>\n",
       "    </tr>\n",
       "    <tr>\n",
       "      <th>2</th>\n",
       "      <td>time_wo_resolvingnames_w_timestamp</td>\n",
       "      <td>38.847519</td>\n",
       "    </tr>\n",
       "    <tr>\n",
       "      <th>3</th>\n",
       "      <td>time_wo_resolvingnames_w_timestamp_verbose</td>\n",
       "      <td>NaN</td>\n",
       "    </tr>\n",
       "    <tr>\n",
       "      <th>4</th>\n",
       "      <td>time_wo_resolvingnames_w_timestamp_verboseplus</td>\n",
       "      <td>NaN</td>\n",
       "    </tr>\n",
       "    <tr>\n",
       "      <th>5</th>\n",
       "      <td>time_custom</td>\n",
       "      <td>138.074358</td>\n",
       "    </tr>\n",
       "  </tbody>\n",
       "</table>\n",
       "</div>"
      ],
      "text/plain": [
       "                                      description        time\n",
       "0                          time_wo_resolvingnames   36.347191\n",
       "1                  time_wo_resolvingnames_wo_time         NaN\n",
       "2              time_wo_resolvingnames_w_timestamp   38.847519\n",
       "3      time_wo_resolvingnames_w_timestamp_verbose         NaN\n",
       "4  time_wo_resolvingnames_w_timestamp_verboseplus         NaN\n",
       "5                                     time_custom  138.074358"
      ]
     },
     "execution_count": 73,
     "metadata": {},
     "output_type": "execute_result"
    }
   ],
   "source": [
    "analysis_tshark = pd.DataFrame([['time_wo_resolvingnames',time_wo_resolvingnames2],\\\n",
    "              ['time_wo_resolvingnames_wo_time',np.nan],\\\n",
    "              ['time_wo_resolvingnames_w_timestamp',time_wo_resolvingnames_w_timestamp2],\\\n",
    "              ['time_wo_resolvingnames_w_timestamp_verbose',np.nan],\\\n",
    "              ['time_wo_resolvingnames_w_timestamp_verboseplus',np.nan],\\\n",
    "              ['time_custom',time_custom2]],\\\n",
    "             columns=['description','time'])\n",
    "\n",
    "analysis_tshark"
   ]
  },
  {
   "cell_type": "markdown",
   "metadata": {},
   "source": [
    "<h2> ==============================================<br>\n",
    "Analysing Scapy </h2>"
   ]
  },
  {
   "cell_type": "code",
   "execution_count": 80,
   "metadata": {
    "collapsed": false
   },
   "outputs": [],
   "source": [
    "import logging\n",
    "logging.getLogger(\"scapy.runtime\").setLevel(logging.ERROR)\n",
    "\n",
    "from scapy.all import *"
   ]
  },
  {
   "cell_type": "markdown",
   "metadata": {},
   "source": [
    "> NOTE: It is COMPLETELY impractical to read everything in memory, as the following:"
   ]
  },
  {
   "cell_type": "code",
   "execution_count": 81,
   "metadata": {
    "collapsed": false
   },
   "outputs": [],
   "source": [
    "# entire_file = rdpcap(\"data/anon-Booter5.pcap\")"
   ]
  },
  {
   "cell_type": "code",
   "execution_count": 91,
   "metadata": {
    "collapsed": false
   },
   "outputs": [
    {
     "name": "stdout",
     "output_type": "stream",
     "text": [
      "2628.9540469646454 681889792\n"
     ]
    }
   ],
   "source": [
    "time_custom3 = time.time()\n",
    "mem_custom3 = resource.getrusage(resource.RUSAGE_SELF).ru_maxrss\n",
    "\n",
    "f = open('anon-Booter5.txt','w')\n",
    "\n",
    "with PcapReader('data/anon-Booter5.pcap') as pcap_reader:\n",
    "        for pkt in pcap_reader:\n",
    "            \n",
    "            timestamp= pkt.time\n",
    "            \n",
    "            if IP in pkt:\n",
    "                ttl=pkt[IP].ttl\n",
    "                ip_proto=pkt[IP].proto\n",
    "                ip_length=pkt[IP].proto\n",
    "                ip_src=pkt[IP].src\n",
    "                ip_dst=pkt[IP].dst\n",
    "                \n",
    "                if UDP in pkt:\n",
    "                    sport=pkt[UDP].sport\n",
    "                    dport=pkt[UDP].dport\n",
    "                    tcp_flags=\"\"\n",
    "\n",
    "                if TCP in pkt:\n",
    "                    sport=pkt[TCP].sport\n",
    "                    dport=pkt[TCP].dport\n",
    "                    tcp_flags=pkt[TCP].flags #'F': 'FIN','S': 'SYN','R': 'RST','P': 'PSH','A': 'ACK','U': 'URG','E': 'ECE','C': 'CWR',\n",
    "            \n",
    "                print (str(timestamp),\\\n",
    "                       str(ttl),\\\n",
    "                       str(ip_proto),\\\n",
    "                       str(ip_src),\\\n",
    "                       str(ip_dst),\\\n",
    "                       str(sport),\\\n",
    "                       str(dport),\\\n",
    "                       str(tcp_flags),\\\n",
    "                       sep=\";\",\\\n",
    "                       file=f) \n",
    "\n",
    "mem_custom3 = resource.getrusage(resource.RUSAGE_SELF).ru_maxrss -mem_custom3\n",
    "time_custom3 = time.time() - time_custom3\n",
    "\n",
    "print(time_custom3, mem_custom3)"
   ]
  },
  {
   "cell_type": "code",
   "execution_count": 92,
   "metadata": {
    "collapsed": false
   },
   "outputs": [
    {
     "data": {
      "text/html": [
       "<div>\n",
       "<table border=\"1\" class=\"dataframe\">\n",
       "  <thead>\n",
       "    <tr style=\"text-align: right;\">\n",
       "      <th></th>\n",
       "      <th>description</th>\n",
       "      <th>time</th>\n",
       "    </tr>\n",
       "  </thead>\n",
       "  <tbody>\n",
       "    <tr>\n",
       "      <th>0</th>\n",
       "      <td>time_wo_resolvingnames</td>\n",
       "      <td>NaN</td>\n",
       "    </tr>\n",
       "    <tr>\n",
       "      <th>1</th>\n",
       "      <td>time_wo_resolvingnames_wo_time</td>\n",
       "      <td>NaN</td>\n",
       "    </tr>\n",
       "    <tr>\n",
       "      <th>2</th>\n",
       "      <td>time_wo_resolvingnames_w_timestamp</td>\n",
       "      <td>NaN</td>\n",
       "    </tr>\n",
       "    <tr>\n",
       "      <th>3</th>\n",
       "      <td>time_wo_resolvingnames_w_timestamp_verbose</td>\n",
       "      <td>NaN</td>\n",
       "    </tr>\n",
       "    <tr>\n",
       "      <th>4</th>\n",
       "      <td>time_wo_resolvingnames_w_timestamp_verboseplus</td>\n",
       "      <td>NaN</td>\n",
       "    </tr>\n",
       "    <tr>\n",
       "      <th>5</th>\n",
       "      <td>time_custom</td>\n",
       "      <td>2628.954047</td>\n",
       "    </tr>\n",
       "  </tbody>\n",
       "</table>\n",
       "</div>"
      ],
      "text/plain": [
       "                                      description         time\n",
       "0                          time_wo_resolvingnames          NaN\n",
       "1                  time_wo_resolvingnames_wo_time          NaN\n",
       "2              time_wo_resolvingnames_w_timestamp          NaN\n",
       "3      time_wo_resolvingnames_w_timestamp_verbose          NaN\n",
       "4  time_wo_resolvingnames_w_timestamp_verboseplus          NaN\n",
       "5                                     time_custom  2628.954047"
      ]
     },
     "execution_count": 92,
     "metadata": {},
     "output_type": "execute_result"
    }
   ],
   "source": [
    "analysis_scapy = pd.DataFrame([['time_wo_resolvingnames',np.nan],\\\n",
    "              ['time_wo_resolvingnames_wo_time',np.nan],\\\n",
    "              ['time_wo_resolvingnames_w_timestamp',np.nan],\\\n",
    "              ['time_wo_resolvingnames_w_timestamp_verbose',np.nan],\\\n",
    "              ['time_wo_resolvingnames_w_timestamp_verboseplus',np.nan],\\\n",
    "              ['time_custom',time_custom3]],\\\n",
    "             columns=['description','time'])\n",
    "\n",
    "analysis_scapy"
   ]
  },
  {
   "cell_type": "markdown",
   "metadata": {},
   "source": [
    "<h2>================================================================<br>\n",
    "Analysing dpkt</h2>"
   ]
  },
  {
   "cell_type": "markdown",
   "metadata": {},
   "source": [
    "Unfortunately, there is no support for dpkt on python3 (yet). We performed the analysis in another file [(dpkt_analysis_py27.ipynb)](dpkt_analysis_py27.ipynb). And the result was the following:"
   ]
  },
  {
   "cell_type": "code",
   "execution_count": 3,
   "metadata": {
    "collapsed": false
   },
   "outputs": [
    {
     "ename": "NameError",
     "evalue": "name 'pd' is not defined",
     "output_type": "error",
     "traceback": [
      "\u001b[0;31m---------------------------------------------------------------------------\u001b[0m",
      "\u001b[0;31mNameError\u001b[0m                                 Traceback (most recent call last)",
      "\u001b[0;32m<ipython-input-3-7e9e54f75d8f>\u001b[0m in \u001b[0;36m<module>\u001b[0;34m()\u001b[0m\n\u001b[0;32m----> 1\u001b[0;31m \u001b[0manalysis_dpkt\u001b[0m \u001b[0;34m=\u001b[0m \u001b[0mpd\u001b[0m\u001b[0;34m.\u001b[0m\u001b[0mDataFrame\u001b[0m\u001b[0;34m(\u001b[0m\u001b[0;34m[\u001b[0m\u001b[0;34m[\u001b[0m\u001b[0;34m'time_wo_resolvingnames'\u001b[0m\u001b[0;34m,\u001b[0m\u001b[0mnp\u001b[0m\u001b[0;34m.\u001b[0m\u001b[0mnan\u001b[0m\u001b[0;34m]\u001b[0m\u001b[0;34m,\u001b[0m              \u001b[0;34m[\u001b[0m\u001b[0;34m'time_wo_resolvingnames_wo_time'\u001b[0m\u001b[0;34m,\u001b[0m\u001b[0mnp\u001b[0m\u001b[0;34m.\u001b[0m\u001b[0mnan\u001b[0m\u001b[0;34m]\u001b[0m\u001b[0;34m,\u001b[0m              \u001b[0;34m[\u001b[0m\u001b[0;34m'time_wo_resolvingnames_w_timestamp'\u001b[0m\u001b[0;34m,\u001b[0m\u001b[0mnp\u001b[0m\u001b[0;34m.\u001b[0m\u001b[0mnan\u001b[0m\u001b[0;34m]\u001b[0m\u001b[0;34m,\u001b[0m              \u001b[0;34m[\u001b[0m\u001b[0;34m'time_wo_resolvingnames_w_timestamp_verbose'\u001b[0m\u001b[0;34m,\u001b[0m\u001b[0mnp\u001b[0m\u001b[0;34m.\u001b[0m\u001b[0mnan\u001b[0m\u001b[0;34m]\u001b[0m\u001b[0;34m,\u001b[0m              \u001b[0;34m[\u001b[0m\u001b[0;34m'time_wo_resolvingnames_w_timestamp_verboseplus'\u001b[0m\u001b[0;34m,\u001b[0m\u001b[0mnp\u001b[0m\u001b[0;34m.\u001b[0m\u001b[0mnan\u001b[0m\u001b[0;34m]\u001b[0m\u001b[0;34m,\u001b[0m              \u001b[0;34m[\u001b[0m\u001b[0;34m'time_custom'\u001b[0m\u001b[0;34m,\u001b[0m\u001b[0mfloat\u001b[0m\u001b[0;34m(\u001b[0m\u001b[0;36m82.45\u001b[0m\u001b[0;34m)\u001b[0m\u001b[0;34m]\u001b[0m\u001b[0;34m]\u001b[0m\u001b[0;34m,\u001b[0m             \u001b[0mcolumns\u001b[0m\u001b[0;34m=\u001b[0m\u001b[0;34m[\u001b[0m\u001b[0;34m'description'\u001b[0m\u001b[0;34m,\u001b[0m\u001b[0;34m'time'\u001b[0m\u001b[0;34m]\u001b[0m\u001b[0;34m)\u001b[0m\u001b[0;34m\u001b[0m\u001b[0m\n\u001b[0m\u001b[1;32m      2\u001b[0m \u001b[0;34m\u001b[0m\u001b[0m\n\u001b[1;32m      3\u001b[0m \u001b[0manalysis_dpkt\u001b[0m\u001b[0;34m\u001b[0m\u001b[0m\n",
      "\u001b[0;31mNameError\u001b[0m: name 'pd' is not defined"
     ]
    }
   ],
   "source": [
    "analysis_dpkt = pd.DataFrame([['time_wo_resolvingnames',np.nan],\\\n",
    "              ['time_wo_resolvingnames_wo_time',np.nan],\\\n",
    "              ['time_wo_resolvingnames_w_timestamp',np.nan],\\\n",
    "              ['time_wo_resolvingnames_w_timestamp_verbose',np.nan],\\\n",
    "              ['time_wo_resolvingnames_w_timestamp_verboseplus',np.nan],\\\n",
    "              ['time_custom',float(82.45)]],\\\n",
    "             columns=['description','time'])\n",
    "\n",
    "analysis_dpkt"
   ]
  },
  {
   "cell_type": "markdown",
   "metadata": {},
   "source": [
    "## Summary: "
   ]
  },
  {
   "cell_type": "code",
   "execution_count": 93,
   "metadata": {
    "collapsed": false
   },
   "outputs": [
    {
     "data": {
      "text/html": [
       "<div>\n",
       "<table border=\"1\" class=\"dataframe\">\n",
       "  <thead>\n",
       "    <tr style=\"text-align: right;\">\n",
       "      <th></th>\n",
       "      <th>description</th>\n",
       "      <th>tcpdump</th>\n",
       "      <th>tshark</th>\n",
       "      <th>scapy</th>\n",
       "    </tr>\n",
       "  </thead>\n",
       "  <tbody>\n",
       "    <tr>\n",
       "      <th>0</th>\n",
       "      <td>time_wo_resolvingnames</td>\n",
       "      <td>7.850586</td>\n",
       "      <td>36.347191</td>\n",
       "      <td>NaN</td>\n",
       "    </tr>\n",
       "    <tr>\n",
       "      <th>1</th>\n",
       "      <td>time_wo_resolvingnames_wo_time</td>\n",
       "      <td>6.884278</td>\n",
       "      <td>NaN</td>\n",
       "      <td>NaN</td>\n",
       "    </tr>\n",
       "    <tr>\n",
       "      <th>2</th>\n",
       "      <td>time_wo_resolvingnames_w_timestamp</td>\n",
       "      <td>7.259586</td>\n",
       "      <td>38.847519</td>\n",
       "      <td>NaN</td>\n",
       "    </tr>\n",
       "    <tr>\n",
       "      <th>3</th>\n",
       "      <td>time_wo_resolvingnames_w_timestamp_verbose</td>\n",
       "      <td>15.678692</td>\n",
       "      <td>NaN</td>\n",
       "      <td>NaN</td>\n",
       "    </tr>\n",
       "    <tr>\n",
       "      <th>4</th>\n",
       "      <td>time_wo_resolvingnames_w_timestamp_verboseplus</td>\n",
       "      <td>32.095101</td>\n",
       "      <td>NaN</td>\n",
       "      <td>NaN</td>\n",
       "    </tr>\n",
       "    <tr>\n",
       "      <th>5</th>\n",
       "      <td>time_custom</td>\n",
       "      <td>46.229947</td>\n",
       "      <td>138.074358</td>\n",
       "      <td>2628.954047</td>\n",
       "    </tr>\n",
       "  </tbody>\n",
       "</table>\n",
       "</div>"
      ],
      "text/plain": [
       "                                      description    tcpdump      tshark  \\\n",
       "0                          time_wo_resolvingnames   7.850586   36.347191   \n",
       "1                  time_wo_resolvingnames_wo_time   6.884278         NaN   \n",
       "2              time_wo_resolvingnames_w_timestamp   7.259586   38.847519   \n",
       "3      time_wo_resolvingnames_w_timestamp_verbose  15.678692         NaN   \n",
       "4  time_wo_resolvingnames_w_timestamp_verboseplus  32.095101         NaN   \n",
       "5                                     time_custom  46.229947  138.074358   \n",
       "\n",
       "         scapy  \n",
       "0          NaN  \n",
       "1          NaN  \n",
       "2          NaN  \n",
       "3          NaN  \n",
       "4          NaN  \n",
       "5  2628.954047  "
      ]
     },
     "execution_count": 93,
     "metadata": {},
     "output_type": "execute_result"
    }
   ],
   "source": [
    "comparison = pd.merge(analysis_tcpdump, analysis_tshark, on='description')\n",
    "comparison = pd.merge(comparison,analysis_scapy, on='description')\n",
    "comparison.columns = ['description','tcpdump','tshark','scapy']\n",
    "comparison"
   ]
  }
 ],
 "metadata": {
  "kernelspec": {
   "display_name": "Python 3",
   "language": "python",
   "name": "python3"
  },
  "language_info": {
   "codemirror_mode": {
    "name": "ipython",
    "version": 3
   },
   "file_extension": ".py",
   "mimetype": "text/x-python",
   "name": "python",
   "nbconvert_exporter": "python",
   "pygments_lexer": "ipython3",
   "version": "3.5.1"
  },
  "widgets": {
   "state": {},
   "version": "1.1.2"
  }
 },
 "nbformat": 4,
 "nbformat_minor": 0
}
