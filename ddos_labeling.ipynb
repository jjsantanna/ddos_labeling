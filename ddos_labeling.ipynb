{
 "cells": [
  {
   "cell_type": "code",
   "execution_count": 1,
   "metadata": {
    "collapsed": true
   },
   "outputs": [],
   "source": [
    "input_file='data/prod-anon-040.pcap'"
   ]
  },
  {
   "cell_type": "markdown",
   "metadata": {},
   "source": [
    "<h1 align='center'> DDoS Attack (Convert, Filter and) Labelling </h1>"
   ]
  },
  {
   "cell_type": "markdown",
   "metadata": {},
   "source": [
    "<h2 align='center'> \n",
    "<div style=\"width:400px;padding:10px;border:1px dotted black;\">\n",
    "Goal: to label DDoS attacks.\n",
    "</div>\n",
    "</h2>"
   ]
  },
  {
   "cell_type": "markdown",
   "metadata": {},
   "source": [
    "<img align='center' src=\"figs/summary.png\" width=\"400px\"/>"
   ]
  },
  {
   "cell_type": "markdown",
   "metadata": {},
   "source": [
    "- The **input** is a packet-based network trace file that contains an attack, usually with the extension .pcap or pcapng.\n",
    "- The **output** is a string with a label of the attack found in the input file."
   ]
  },
  {
   "cell_type": "markdown",
   "metadata": {},
   "source": [
    "## Research Question (RQ) definitions:\n",
    "- **RQ1: How to efficiently read and convert packet-based network traces containing DDoS attacks for facilitating futher analysis?** DDoS attack trace contains a very large amount of records making very expensive computationally to read and analyse them. These records are nested, i.e., packets can have different set of information (network fields), which makes even more challenging to analyse them in a single manner. There are different tools and libraries for reading packet-based network traces \n",
    "\n",
    "- **RQ2: How to efficiently identify the main characteristics of a DDoS attack?** From a practical point of view the definition of DDoS attack is a set of network records with a same characteristics, which is the majority of the network traffic compared to the remaining traffic.\n",
    "\n",
    "- **RQ3: How the characteristics of DDoS attacks can be used for labeling them?** There are many taxonomies to classify and label DDoS attacks. Our approach to address this question is based on the practical experience of network operators and network security specialists. In this approach they label attacks based on their observations on the attacks."
   ]
  },
  {
   "cell_type": "markdown",
   "metadata": {},
   "source": [
    "<h2 align='center'>===============================================================<br> RQ1: How to efficiently read and convert packet-based network traces containing DDoS attacks for facilitating futher analysis?</h2>"
   ]
  },
  {
   "cell_type": "markdown",
   "metadata": {},
   "source": [
    "We analyse the performance of four main tools and libraries for read packet-based network traces: \n",
    "- [tcpdump (see our analysis)](analysis_tcpdump_tshark_scapy.ipynb)\n",
    "- [tshark (see our analysis)](analysis_tcpdump_tshark_scapy.ipynb)\n",
    "- [scapy (see our analysis)](analysis_tcpdump_tshark_scapy.ipynb)\n",
    "- [dpkt (see our analysis)](additional_analysis/analysis_dpkt.ipynb)\n",
    "\n",
    "**In the end we decided for dpkt that has the second best performance but it is easier to manipulate the output for extension purposes.**"
   ]
  },
  {
   "cell_type": "markdown",
   "metadata": {},
   "source": [
    "## Converting pcap (using dpkt)"
   ]
  },
  {
   "cell_type": "code",
   "execution_count": 2,
   "metadata": {
    "collapsed": true
   },
   "outputs": [],
   "source": [
    "output_file=input_file.split('.')[0]+\".txt\""
   ]
  },
  {
   "cell_type": "code",
   "execution_count": 3,
   "metadata": {
    "collapsed": false
   },
   "outputs": [],
   "source": [
    "import argparse\n",
    "import dpkt\n",
    "import socket\n",
    "import os"
   ]
  },
  {
   "cell_type": "code",
   "execution_count": 4,
   "metadata": {
    "collapsed": false
   },
   "outputs": [],
   "source": [
    "outputfile = open(output_file,'w')\n",
    "\n",
    "inputfile = open(input_file)\n",
    "pcapfile = dpkt.pcap.Reader(inputfile)\n",
    "\n",
    "for ts, buf in pcapfile:\n",
    "    eth = dpkt.ethernet.Ethernet(buf)\n",
    "\n",
    "    #FILTERING ONLY FOR IPv4 instead of packets ARP or IPv6\n",
    "    if eth.type == dpkt.ethernet.ETH_TYPE_IP:\n",
    "        ip = eth.data #Loading the content of the ethernet into a variable 'ip'\n",
    "        \n",
    "        timestamp = ts #1\n",
    "        ip_ttl = ip.ttl #2\n",
    "        \n",
    "        ip_proto = ip.p #3\n",
    "        sport = \"\"\n",
    "        dport= \"\"\n",
    "        tcp_flag =\"\"\n",
    "        http_request_method=\"\"\n",
    "        if (ip_proto != 6) and (ip_proto != 17): #It is not TCP or UDP\n",
    "            continue\n",
    "            \n",
    "        ip_length = ip.len #4\n",
    "        ip_src = socket.inet_ntoa(ip.src) #5\n",
    "        ip_dst = socket.inet_ntoa(ip.dst) #6\n",
    "        \n",
    "        try: proto = ip.data #Loading the content of the 'ip' into a variable 'protocol' that can be for example ICMP, TCP, and UDP.\n",
    "        except:\n",
    "            continue\n",
    "        \n",
    "        sport = proto.sport #7\n",
    "        dport = proto.dport #8\n",
    "\n",
    "\n",
    "        if ip.p == 6 :\n",
    "            try:\n",
    "                tcp_flag += (\"F\" if (int( proto.flags & dpkt.tcp.TH_FIN ) != 0) else \".\") #27\n",
    "                tcp_flag += (\"S\" if (int( proto.flags & dpkt.tcp.TH_SYN ) != 0) else \".\") #26\n",
    "                tcp_flag += (\"R\" if (int( proto.flags & dpkt.tcp.TH_RST ) != 0) else \".\") #25\n",
    "                tcp_flag += (\"P\" if (int( proto.flags & dpkt.tcp.TH_PUSH) != 0) else \".\") #24\n",
    "                tcp_flag += (\"A\" if (int( proto.flags & dpkt.tcp.TH_ACK ) != 0) else \".\") #23\n",
    "                tcp_flag += (\"U\" if (int( proto.flags & dpkt.tcp.TH_URG ) != 0) else \".\") #22\n",
    "                tcp_flag += (\"E\" if (int( proto.flags & dpkt.tcp.TH_ECE ) != 0) else \".\") #21\n",
    "                tcp_flag += (\"C\" if (int( proto.flags & dpkt.tcp.TH_CWR ) != 0) else \".\") #20\n",
    "            except:\n",
    "                print \"EXCEPTION TCP FLAG\"\n",
    "\n",
    "            if (proto.dport == 80) or (proto.dport == 443):\n",
    "                    if proto.data == '':\n",
    "                        http_request_method=''\n",
    "                    else:\n",
    "                        try:\n",
    "                            http_request_method = dpkt.http.Request(proto.data).method\n",
    "                        except:\n",
    "                            http_request_method = ''\n",
    "\n",
    "            \n",
    "        fragments = 1 if (int(ip.off & dpkt.ip.IP_MF)!= 0) else 0  #8 This flag is set to a 1 for all fragments except the last one            \n",
    "\n",
    "        print >> outputfile, str(timestamp)+';'+\\\n",
    "        str(ip_ttl)+';'+\\\n",
    "        str(ip_proto)+';'+\\\n",
    "        str(ip_length)+';'+\\\n",
    "        str(ip_src)+';'+\\\n",
    "        str(ip_dst)+';'+\\\n",
    "        str(sport)+';'+\\\n",
    "        str(dport)+';'+\\\n",
    "        str(tcp_flag)+';'+\\\n",
    "        str(fragments)+';'+\\\n",
    "        str(http_request_method)"
   ]
  },
  {
   "cell_type": "markdown",
   "metadata": {},
   "source": [
    "<h2>==========================================================<br>\n",
    "Analysing converted pcap</h2>"
   ]
  },
  {
   "cell_type": "code",
   "execution_count": 5,
   "metadata": {
    "collapsed": true
   },
   "outputs": [],
   "source": [
    "import pandas as pd #more info at http://pandas.pydata.org/\n",
    "import numpy as np #more info at http://www.numpy.org/"
   ]
  },
  {
   "cell_type": "code",
   "execution_count": 6,
   "metadata": {
    "collapsed": false
   },
   "outputs": [
    {
     "data": {
      "text/plain": [
       "8926"
      ]
     },
     "execution_count": 6,
     "metadata": {},
     "output_type": "execute_result"
    }
   ],
   "source": [
    "columns=['timestamp',\\\n",
    "         'ip_ttl',\\\n",
    "         'ip_proto',\\\n",
    "         'ip_length',\\\n",
    "         'ip_src',\\\n",
    "         'ip_dst',\\\n",
    "         'sport',\\\n",
    "         'dport',\\\n",
    "         'tcp_flag',\\\n",
    "         'fragments',\\\n",
    "         'http_data']\n",
    "\n",
    "df = pd.read_csv(output_file,delimiter=\";\", names=columns)\n",
    "len(df)"
   ]
  },
  {
   "cell_type": "code",
   "execution_count": 7,
   "metadata": {
    "collapsed": false
   },
   "outputs": [
    {
     "data": {
      "text/plain": [
       "'191.190.43.172'"
      ]
     },
     "execution_count": 7,
     "metadata": {},
     "output_type": "execute_result"
    }
   ],
   "source": [
    "top_ip_dst = df['ip_dst'].value_counts().index[0]\n",
    "top_ip_dst"
   ]
  },
  {
   "cell_type": "code",
   "execution_count": 8,
   "metadata": {
    "collapsed": false
   },
   "outputs": [
    {
     "data": {
      "text/plain": [
       "6"
      ]
     },
     "execution_count": 8,
     "metadata": {},
     "output_type": "execute_result"
    }
   ],
   "source": [
    "top_ip_proto = df[df['ip_dst']==top_ip_dst]['ip_proto'].value_counts().index[0]\n",
    "top_ip_proto"
   ]
  },
  {
   "cell_type": "code",
   "execution_count": 9,
   "metadata": {
    "collapsed": false
   },
   "outputs": [
    {
     "data": {
      "text/plain": [
       "8925"
      ]
     },
     "execution_count": 9,
     "metadata": {},
     "output_type": "execute_result"
    }
   ],
   "source": [
    "total_packets = len(df[(df['ip_dst']==top_ip_dst) &\\\n",
    "                ~df['ip_src'].str.contains(\".\".join(top_ip_dst.split('.')[0:3]),na=False) &\\\n",
    "                       (df['ip_proto'] == top_ip_proto)])\n",
    "total_packets"
   ]
  },
  {
   "cell_type": "code",
   "execution_count": 10,
   "metadata": {
    "collapsed": false
   },
   "outputs": [
    {
     "data": {
      "text/plain": [
       "80       18.662921\n",
       "50902     1.516854\n",
       "46961     0.921348\n",
       "60117     0.898876\n",
       "50473     0.898876\n",
       "Name: sport, dtype: float64"
      ]
     },
     "execution_count": 10,
     "metadata": {},
     "output_type": "execute_result"
    }
   ],
   "source": [
    "percent_src_ports = df[(df['ip_dst']==top_ip_dst) &\\\n",
    "                ~df['ip_src'].str.contains(\".\".join(top_ip_dst.split('.')[0:3]),na=False) &\\\n",
    "                   (df['ip_proto'] == top_ip_proto)]['sport'].value_counts().divide(total_packets/100)\n",
    "percent_src_ports.head()"
   ]
  },
  {
   "cell_type": "code",
   "execution_count": 11,
   "metadata": {
    "collapsed": false
   },
   "outputs": [
    {
     "data": {
      "text/plain": [
       "443      42.022472\n",
       "80       39.584270\n",
       "50229     0.067416\n",
       "29675     0.056180\n",
       "86        0.056180\n",
       "Name: dport, dtype: float64"
      ]
     },
     "execution_count": 11,
     "metadata": {},
     "output_type": "execute_result"
    }
   ],
   "source": [
    "percent_dst_ports = df[(df['ip_dst']==top_ip_dst) &\\\n",
    "                ~df['ip_src'].str.contains(\".\".join(top_ip_dst.split('.')[0:3]),na=False) &\\\n",
    "                   (df['ip_proto'] == top_ip_proto)]['dport'].value_counts().divide(total_packets/100)\n",
    "percent_dst_ports.head()"
   ]
  },
  {
   "cell_type": "code",
   "execution_count": 12,
   "metadata": {
    "collapsed": false
   },
   "outputs": [
    {
     "data": {
      "text/html": [
       "<div>\n",
       "<table border=\"1\" class=\"dataframe\">\n",
       "  <thead>\n",
       "    <tr style=\"text-align: right;\">\n",
       "      <th></th>\n",
       "      <th>sport</th>\n",
       "      <th>dport</th>\n",
       "      <th>0</th>\n",
       "    </tr>\n",
       "  </thead>\n",
       "  <tbody>\n",
       "    <tr>\n",
       "      <th>0</th>\n",
       "      <td>50902</td>\n",
       "      <td>443</td>\n",
       "      <td>1.516854</td>\n",
       "    </tr>\n",
       "    <tr>\n",
       "      <th>1</th>\n",
       "      <td>46961</td>\n",
       "      <td>80</td>\n",
       "      <td>0.921348</td>\n",
       "    </tr>\n",
       "    <tr>\n",
       "      <th>2</th>\n",
       "      <td>50473</td>\n",
       "      <td>80</td>\n",
       "      <td>0.898876</td>\n",
       "    </tr>\n",
       "    <tr>\n",
       "      <th>3</th>\n",
       "      <td>60117</td>\n",
       "      <td>443</td>\n",
       "      <td>0.898876</td>\n",
       "    </tr>\n",
       "    <tr>\n",
       "      <th>4</th>\n",
       "      <td>60116</td>\n",
       "      <td>443</td>\n",
       "      <td>0.730337</td>\n",
       "    </tr>\n",
       "  </tbody>\n",
       "</table>\n",
       "</div>"
      ],
      "text/plain": [
       "   sport  dport         0\n",
       "0  50902    443  1.516854\n",
       "1  46961     80  0.921348\n",
       "2  50473     80  0.898876\n",
       "3  60117    443  0.898876\n",
       "4  60116    443  0.730337"
      ]
     },
     "execution_count": 12,
     "metadata": {},
     "output_type": "execute_result"
    }
   ],
   "source": [
    "ports_pairs = df[(df['ip_dst']==top_ip_dst) &\\\n",
    "                ~df['ip_src'].str.contains(\".\".join(top_ip_dst.split('.')[0:3]),na=False) &\\\n",
    "                 (df['ip_proto'] == top_ip_proto)].groupby(['sport','dport']).size().divide(total_packets/100).sort_values(ascending=False).reset_index()\n",
    "ports_pairs.head()"
   ]
  },
  {
   "cell_type": "code",
   "execution_count": 13,
   "metadata": {
    "collapsed": false
   },
   "outputs": [
    {
     "data": {
      "text/plain": [
       "GET     4.078652\n",
       "POST    0.157303\n",
       "HEAD    0.011236\n",
       "Name: http_data, dtype: float64"
      ]
     },
     "execution_count": 13,
     "metadata": {},
     "output_type": "execute_result"
    }
   ],
   "source": [
    "http_data = df[(df['ip_dst']==top_ip_dst) &\\\n",
    "                ~df['ip_src'].str.contains(\".\".join(top_ip_dst.split('.')[0:3]),na=False) &\\\n",
    "                   (df['ip_proto'] == top_ip_proto)]['http_data'].value_counts().divide(total_packets/100)\n",
    "http_data.head()"
   ]
  },
  {
   "cell_type": "code",
   "execution_count": 14,
   "metadata": {
    "collapsed": false
   },
   "outputs": [
    {
     "data": {
      "text/plain": [
       "....A...    51.191011\n",
       "...PA...    16.235955\n",
       ".S..A...    14.539326\n",
       ".S......     5.921348\n",
       "F...A...     5.067416\n",
       "Name: tcp_flag, dtype: float64"
      ]
     },
     "execution_count": 14,
     "metadata": {},
     "output_type": "execute_result"
    }
   ],
   "source": [
    "percent_tcp_flags = df[(df['ip_dst']==top_ip_dst) &\\\n",
    "                ~df['ip_src'].str.contains(\".\".join(top_ip_dst.split('.')[0:3]),na=False) &\\\n",
    "                   (df['ip_proto'] == top_ip_proto)]['tcp_flag'].value_counts().divide(total_packets/100)\n",
    "percent_tcp_flags.head()"
   ]
  },
  {
   "cell_type": "code",
   "execution_count": 15,
   "metadata": {
    "collapsed": false
   },
   "outputs": [
    {
     "data": {
      "text/plain": [
       "0    100.269663\n",
       "1      0.011236\n",
       "Name: fragments, dtype: float64"
      ]
     },
     "execution_count": 15,
     "metadata": {},
     "output_type": "execute_result"
    }
   ],
   "source": [
    "percent_fragments = df[(df['ip_dst']==top_ip_dst) &\\\n",
    "                ~df['ip_src'].str.contains(\".\".join(top_ip_dst.split('.')[0:3]),na=False) &\\\n",
    "                   (df['ip_proto'] == top_ip_proto)]['fragments'].value_counts().divide(total_packets/100)\n",
    "percent_fragments.head()"
   ]
  },
  {
   "cell_type": "markdown",
   "metadata": {},
   "source": [
    "## TTL "
   ]
  },
  {
   "cell_type": "code",
   "execution_count": 29,
   "metadata": {
    "collapsed": false
   },
   "outputs": [
    {
     "data": {
      "text/plain": [
       "ip_src\n",
       "119.247.94.164     0\n",
       "162.104.89.223     0\n",
       "162.74.22.204      1\n",
       "162.76.189.133     0\n",
       "162.84.54.140      0\n",
       "163.214.107.140    0\n",
       "166.58.174.207     0\n",
       "166.60.191.118     0\n",
       "166.64.214.197     1\n",
       "166.66.222.221     0\n",
       "166.96.107.156     0\n",
       "166.98.119.228     0\n",
       "167.218.22.198     0\n",
       "167.226.110.157    0\n",
       "170.254.106.207    0\n",
       "171.100.55.157     0\n",
       "171.104.41.142     0\n",
       "178.84.255.196     1\n",
       "178.90.235.213     0\n",
       "178.90.251.163     0\n",
       "179.102.42.238     0\n",
       "179.120.253.204    0\n",
       "179.84.217.155     0\n",
       "182.108.110.119    0\n",
       "182.108.158.164    0\n",
       "182.208.238.237    0\n",
       "182.210.174.214    0\n",
       "182.210.219.206    1\n",
       "182.210.86.190     0\n",
       "182.212.219.140    0\n",
       "                  ..\n",
       "47.123.123.141     0\n",
       "47.127.230.230     0\n",
       "47.205.187.230     0\n",
       "54.125.27.180      0\n",
       "54.235.93.151      0\n",
       "54.249.233.179     0\n",
       "54.97.158.164      0\n",
       "55.113.170.180     0\n",
       "55.113.234.222     0\n",
       "55.117.154.159     0\n",
       "55.117.246.190     0\n",
       "55.117.91.158      0\n",
       "55.77.154.207      0\n",
       "62.233.110.175     0\n",
       "66.229.250.179     0\n",
       "66.237.59.141      0\n",
       "66.237.59.143      0\n",
       "74.195.61.164      0\n",
       "75.227.185.140     0\n",
       "75.243.167.133     0\n",
       "87.205.26.150      0\n",
       "87.57.165.174      0\n",
       "90.119.235.230     0\n",
       "90.201.46.133      0\n",
       "90.85.171.212      0\n",
       "91.117.102.190     1\n",
       "94.73.151.165      0\n",
       "94.73.158.150      0\n",
       "98.221.230.127     0\n",
       "98.99.229.165      0\n",
       "Name: ip_ttl, dtype: int64"
      ]
     },
     "execution_count": 29,
     "metadata": {},
     "output_type": "execute_result"
    }
   ],
   "source": [
    "df.groupby(['ip_src'])['ip_ttl'].agg(np.ptp)"
   ]
  },
  {
   "cell_type": "code",
   "execution_count": null,
   "metadata": {
    "collapsed": true
   },
   "outputs": [],
   "source": [
    "percent_fragments = df[(df['ip_dst']==top_ip_dst) &\\\n",
    "                ~df['ip_src'].str.contains(\".\".join(top_ip_dst.split('.')[0:3]),na=False) &\\\n",
    "                   (df['ip_proto'] == top_ip_proto)]['fragments'].value_counts().divide(total_packets/100)\n",
    "percent_fragments.head()"
   ]
  },
  {
   "cell_type": "markdown",
   "metadata": {},
   "source": [
    "## Additional information"
   ]
  },
  {
   "cell_type": "code",
   "execution_count": 16,
   "metadata": {
    "collapsed": true
   },
   "outputs": [],
   "source": [
    "df_port_name = pd.read_csv('data/port_name.txt',delimiter=\",\", names=['port_num','port_name'])\n",
    "df_ip_proto_name = pd.read_csv('data/ip_proto_name.txt',delimiter=\",\", names=['proto_num','proto_name'])"
   ]
  },
  {
   "cell_type": "markdown",
   "metadata": {},
   "source": [
    "## Functions for enriching the actual data with additional information"
   ]
  },
  {
   "cell_type": "code",
   "execution_count": 17,
   "metadata": {
    "collapsed": false
   },
   "outputs": [],
   "source": [
    "def get_ip_proto_name(ip_proto_number):\n",
    "    try:\n",
    "        return df_ip_proto_name[df_ip_proto_name['proto_num']==ip_proto_number]['proto_name'].values[0]\n",
    "    except:\n",
    "        return str(ip_proto_number)\n",
    "    \n",
    "def get_port_name(port_number):\n",
    "    try:\n",
    "        return df_port_name[df_port_name['port_num']==port_number]['port_name'].values[0]\n",
    "    except:\n",
    "        return \"Port \"+str(port_number)\n",
    "    \n",
    "def get_tcp_flag_name(tcp_flags_str):\n",
    "    tcp_flags=\"\"\n",
    "    try:\n",
    "        tcp_flags += (\"FIN\" if (tcp_flags_str.find('F') != -1) else next) \n",
    "    except:\n",
    "        next\n",
    "    try:\n",
    "        tcp_flags += (\"SYN\" if (tcp_flags_str.find('S')!= -1) else next) \n",
    "    except:\n",
    "        next\n",
    "        \n",
    "    try:\n",
    "        tcp_flags += (\"RST\" if tcp_flags_str.find('R') != -1 else next)\n",
    "    except:\n",
    "        next\n",
    "        \n",
    "    try:\n",
    "        tcp_flags += (\"PUSH\" if tcp_flags_str.find('P') != -1 else next) \n",
    "    except:\n",
    "        next\n",
    "        \n",
    "    try:\n",
    "        tcp_flags += (\"ACK\" if tcp_flags_str.find('A') != -1 else next)\n",
    "    except:\n",
    "        next\n",
    "        \n",
    "    try:\n",
    "        tcp_flags += (\"URG\" if tcp_flags_str.find('U') != -1 else next) \n",
    "    except:\n",
    "        next\n",
    "        \n",
    "    try:\n",
    "        tcp_flags += (\"ECE\" if tcp_flags_str.find('E') != -1 else next)\n",
    "    except:\n",
    "        next\n",
    "        \n",
    "    try:\n",
    "        tcp_flags += (\"CWR\" if tcp_flags_str.find('C') != -1 else next)\n",
    "    except:\n",
    "        next\n",
    "   \n",
    "        \n",
    "    return tcp_flags            "
   ]
  },
  {
   "cell_type": "markdown",
   "metadata": {},
   "source": [
    "## DDoS Attack Labeling Approach"
   ]
  },
  {
   "cell_type": "code",
   "execution_count": 18,
   "metadata": {
    "collapsed": false
   },
   "outputs": [],
   "source": [
    "percent_threshold=70\n",
    "\n",
    "if (top_ip_proto != 6) and (top_ip_proto != 17):\n",
    "    attack_label = str(top_ip_proto)+\" attack\"\n",
    "\n",
    "elif top_ip_proto == 6:\n",
    "    ##THE Only exception in which the attack is labelled accordingly to the destination port\n",
    "    if len(http_data)>0 and (percent_dst_ports.values[0]>percent_threshold) and ((percent_dst_ports.index[0]==80) or (percent_dst_ports.index[0]==443)):\n",
    "        attack_label = get_port_name(percent_dst_ports.index[0]) +\" \"+http_data.index[0]\n",
    "      \n",
    "    elif (percent_src_ports.values[0]>percent_threshold) or (percent_dst_ports.values[0]>percent_threshold): \n",
    "         \n",
    "        if (percent_tcp_flags.values[0]>percent_threshold):\n",
    "            attack_label = get_ip_proto_name(top_ip_proto)+\" \"+ get_tcp_flag_name(percent_tcp_flags.index[0])    \n",
    "        else:\n",
    "            attack_label = get_ip_proto_name(top_ip_proto)+\" \"+get_port_name(percent_src_ports.index[0])\n",
    "    else:\n",
    "        attack_label = \"Several ports (ex. \"+get_port_name(percent_src_ports.index[0])+\" and \"+get_port_name(percent_src_ports.index[1])+\") \"+get_ip_proto_name(top_ip_proto)\n",
    "\n",
    "###UDP case\n",
    "elif ports_pairs[0][0] > percent_threshold:\n",
    "    attack_label = get_port_name(ports_pairs['sport'][0])\n",
    "else:\n",
    "    attack_label = get_ip_proto_name(top_ip_proto)+\" \"+get_ip_proto_name(top_ip_proto)\n",
    "\n",
    "###IP fragmentation    \n",
    "if (percent_fragments.values[0] > percent_threshold) and (percent_fragments.index[0]==1):\n",
    "    attack_label = attack_label + \" IP fragmentation\"\n",
    "    \n",
    "\n",
    "### Adding the word attack to the end of the attack label\n",
    "attack_label= attack_label+\" attack\""
   ]
  },
  {
   "cell_type": "code",
   "execution_count": 19,
   "metadata": {
    "collapsed": false,
    "scrolled": true
   },
   "outputs": [
    {
     "name": "stdout",
     "output_type": "stream",
     "text": [
      "Several ports (ex. HTTP and Port 50902) TCP attack\n"
     ]
    }
   ],
   "source": [
    "print(attack_label)"
   ]
  },
  {
   "cell_type": "code",
   "execution_count": null,
   "metadata": {
    "collapsed": true
   },
   "outputs": [],
   "source": []
  }
 ],
 "metadata": {
  "kernelspec": {
   "display_name": "Python 2",
   "language": "python",
   "name": "python2"
  },
  "language_info": {
   "codemirror_mode": {
    "name": "ipython",
    "version": 2
   },
   "file_extension": ".py",
   "mimetype": "text/x-python",
   "name": "python",
   "nbconvert_exporter": "python",
   "pygments_lexer": "ipython2",
   "version": "2.7.12"
  },
  "widgets": {
   "state": {},
   "version": "1.1.2"
  }
 },
 "nbformat": 4,
 "nbformat_minor": 0
}
